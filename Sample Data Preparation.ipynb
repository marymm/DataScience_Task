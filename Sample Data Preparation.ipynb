{
 "cells": [
  {
   "cell_type": "markdown",
   "metadata": {},
   "source": [
    "In the first part, I checked the schema of the json file with 'less' command in ubuntu and wrote the code to read the json file and took a sample for the analysis."
   ]
  },
  {
   "cell_type": "code",
   "execution_count": 1,
   "metadata": {},
   "outputs": [],
   "source": [
    "import pickle\n",
    "import ijson\n",
    "import pandas as pd\n",
    "\n",
    "filename = 'location_task_no_nulls.json'\n",
    "\n",
    "columns = [\n",
    "    'order_id',\n",
    "    'customer_id',\n",
    "    'order_items_count',\n",
    "    'order_value',\n",
    "    'created_timestamp_local',\n",
    "    'delivery_geohash_precision8',\n",
    "    'delivery_postal_code',\n",
    "    'logistics_dropoff_distance',\n",
    "    'has_bell_instruction',\n",
    "    'has_call_instruction',\n",
    "    'has_gate_instruction',\n",
    "    'has_instruction',\n",
    "    'has_knock_instruction',\n",
    "    'has_leave_instruction',\n",
    "    'has_lift_instruction',\n",
    "    'has_lobby_instruction',\n",
    "    'has_phone_number'\n",
    "]"
   ]
  },
  {
   "cell_type": "code",
   "execution_count": 2,
   "metadata": {
    "scrolled": true
   },
   "outputs": [
    {
     "name": "stdout",
     "output_type": "stream",
     "text": [
      "Whoops  start_map None\n"
     ]
    }
   ],
   "source": [
    "import ijson\n",
    "\n",
    "order_objs = {}\n",
    "data = ijson.parse(open(filename, 'r'))\n",
    "\n",
    "for prefix, event, value in data:\n",
    "    try: \n",
    "        #print(prefix, event, value)\n",
    "        if event == 'map_key':\n",
    "            key1 = value\n",
    "            key2 = prefix\n",
    "        else:\n",
    "            if key1 not in order_objs:\n",
    "                order_objs[key1] = dict()            \n",
    "            order_objs[key1].update({key2: value})\n",
    "    except:\n",
    "        print('Whoops', prefix, event, value)     "
   ]
  },
  {
   "cell_type": "code",
   "execution_count": 3,
   "metadata": {},
   "outputs": [
    {
     "name": "stdout",
     "output_type": "stream",
     "text": [
      "2593816\n"
     ]
    }
   ],
   "source": [
    "print(len(order_objs.keys()))"
   ]
  },
  {
   "cell_type": "code",
   "execution_count": 5,
   "metadata": {},
   "outputs": [],
   "source": [
    "with open('orders_dictionary.pkl', 'wb') as f:\n",
    "    pickle.dump(order_objs, f)"
   ]
  },
  {
   "cell_type": "code",
   "execution_count": 2,
   "metadata": {},
   "outputs": [],
   "source": [
    "with open('orders_dictionary.pkl', 'rb') as fp:\n",
    "    orders = pickle.load(fp)"
   ]
  },
  {
   "cell_type": "code",
   "execution_count": 3,
   "metadata": {},
   "outputs": [],
   "source": [
    "t = pd.DataFrame.from_dict(orders, orient = 'index', columns=columns)"
   ]
  },
  {
   "cell_type": "code",
   "execution_count": 4,
   "metadata": {},
   "outputs": [],
   "source": [
    "df = t.sample(frac=0.05).reset_index(drop=True)\n",
    "\n",
    "with open('sample5.pkl', 'wb') as f:\n",
    "    pickle.dump(df, f)"
   ]
  },
  {
   "cell_type": "code",
   "execution_count": null,
   "metadata": {},
   "outputs": [],
   "source": []
  }
 ],
 "metadata": {
  "kernelspec": {
   "display_name": "Python 3 (ipykernel)",
   "language": "python",
   "name": "python3"
  },
  "language_info": {
   "codemirror_mode": {
    "name": "ipython",
    "version": 3
   },
   "file_extension": ".py",
   "mimetype": "text/x-python",
   "name": "python",
   "nbconvert_exporter": "python",
   "pygments_lexer": "ipython3",
   "version": "3.8.10"
  }
 },
 "nbformat": 4,
 "nbformat_minor": 4
}
